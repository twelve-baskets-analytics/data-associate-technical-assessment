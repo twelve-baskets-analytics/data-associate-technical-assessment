{
 "cells": [
  {
   "cell_type": "code",
   "execution_count": 1,
   "metadata": {},
   "outputs": [
    {
     "name": "stdout",
     "output_type": "stream",
     "text": [
      "SQLite Transactional table created and populated with sample data.\n"
     ]
    }
   ],
   "source": [
    "import sqlite3\n",
    "import pandas as pd\n",
    "import numpy as np\n",
    "\n",
    "# Create a connection to SQLite database (or create a new one)\n",
    "conn = sqlite3.connect('transactional_data.db')\n",
    "cursor = conn.cursor()\n",
    "\n",
    "# Create a transactional table\n",
    "cursor.execute('''\n",
    "CREATE TABLE IF NOT EXISTS transactions (\n",
    "    transaction_id INTEGER PRIMARY KEY,\n",
    "    transaction_date TEXT,\n",
    "    product_id INTEGER,\n",
    "    quantity INTEGER,\n",
    "    price REAL\n",
    ")\n",
    "''')\n",
    "\n",
    "# Insert some sample data into the transactional table\n",
    "np.random.seed(42)\n",
    "transaction_data = [\n",
    "    (i, \n",
    "     f\"2024-08-{np.random.randint(1, 31):02d}\", \n",
    "     np.random.randint(1, 11), \n",
    "     np.random.randint(1, 10), \n",
    "     round(np.random.uniform(5.0, 100.0), 2)\n",
    "    )\n",
    "    for i in range(1, 101)\n",
    "]\n",
    "\n",
    "cursor.executemany('''\n",
    "INSERT INTO transactions (transaction_id, transaction_date, product_id, quantity, price)\n",
    "VALUES (?, ?, ?, ?, ?)\n",
    "''', transaction_data)\n",
    "\n",
    "conn.commit()\n",
    "\n",
    "print(\"SQLite Transactional table created and populated with sample data.\")"
   ]
  },
  {
   "cell_type": "code",
   "execution_count": null,
   "metadata": {},
   "outputs": [],
   "source": []
  }
 ],
 "metadata": {
  "kernelspec": {
   "display_name": "datascience3_11",
   "language": "python",
   "name": "python3"
  },
  "language_info": {
   "codemirror_mode": {
    "name": "ipython",
    "version": 3
   },
   "file_extension": ".py",
   "mimetype": "text/x-python",
   "name": "python",
   "nbconvert_exporter": "python",
   "pygments_lexer": "ipython3",
   "version": "3.11.4"
  }
 },
 "nbformat": 4,
 "nbformat_minor": 2
}
